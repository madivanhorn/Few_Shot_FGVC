{
 "cells": [
  {
   "cell_type": "markdown",
   "metadata": {},
   "source": [
    "# Data Augmentation Experiments"
   ]
  },
  {
   "cell_type": "markdown",
   "metadata": {},
   "source": [
    "### Prepare the images with the associated experiments for 1, 3, 5, 10, 20 and all shot learning "
   ]
  },
  {
   "cell_type": "code",
   "execution_count": null,
   "metadata": {},
   "outputs": [],
   "source": [
    "import torch\n",
    "import torch.nn as nn\n",
    "import numpy as np\n",
    "import torchvision\n",
    "import string\n",
    "import os\n",
    "import copy\n",
    "import shutil\n",
    "import pandas as pd\n",
    "from PIL import Image\n",
    "from random import sample\n",
    "from torchvision import datasets, models, transforms\n",
    "\n",
    "import pandas as pd\n",
    "import os.path, sys \n",
    "from pathlib import Path"
   ]
  },
  {
   "cell_type": "code",
   "execution_count": null,
   "metadata": {},
   "outputs": [],
   "source": [
    "torch.manual_seed(0)\n",
    "np.random.seed(0)"
   ]
  },
  {
   "cell_type": "code",
   "execution_count": null,
   "metadata": {},
   "outputs": [],
   "source": [
    "# Save Image ID, whether to train or test image, Folder Name, Name of Image in Data Frame\n",
    "main_dir = '/Users/madisonvanhorn/Documents/iNaturalist_2017/CUB_200_2011/CUB_200_2011/'\n",
    "part_dir = main_dir + 'parts/' + 'part_locs.txt'\n",
    "mirror_dir = main_dir + 'mirror/' \n",
    "df = pd.read_csv(part_dir, delimiter = ' ', names=['ID', 'Part_ID', 'X', 'Y', 'Visible'])\n",
    "\n",
    "diff_parts = main_dir + 'parts/' + 'parts.txt'\n",
    "parts_df = pd.read_csv(diff_parts, delimiter = ' ', names=['ID', 'Part'])"
   ]
  },
  {
   "cell_type": "code",
   "execution_count": null,
   "metadata": {},
   "outputs": [],
   "source": [
    "img_txt = main_dir + 'images.txt'\n",
    "img_split = main_dir + 'train_test_split.txt'\n",
    "img_df =  pd.read_csv(img_txt, delimiter = ' ', names=['ID', 'Name'])\n",
    "img_split_df = pd.read_csv(img_split, delimiter = ' ', names=['ID', 'Training'])\n",
    "img_df = img_df.join(img_split_df['Training'])"
   ]
  },
  {
   "cell_type": "markdown",
   "metadata": {},
   "source": [
    "## Transfer Images to perspective Train/Test folder"
   ]
  },
  {
   "cell_type": "code",
   "execution_count": null,
   "metadata": {},
   "outputs": [],
   "source": [
    "# Move images to their perspective folders\n",
    "for index, row in df.iterrows():\n",
    "    if(os.path.isdir(train_dir)==False):\n",
    "            os.mkdir(train_dir)\n",
    "    if(os.path.isdir(test_dir)==False):\n",
    "        os.mkdir(test_dir)\n",
    "\n",
    "    if (row[1]==1): # move to training folder\n",
    "        if (os.path.isdir(train_dir + row[2])==False):\n",
    "            os.mkdir(train_dir + row[2])\n",
    "        shutil.copy(img_dir + row[2] + '/' + row[3], train_dir + row[2] + '/' + row[3]) \n",
    "\n",
    "    else: # Move to test folder\n",
    "        if (os.path.isdir(test_dir + row[2])==False):\n",
    "            os.mkdir(test_dir + row[2])\n",
    "        shutil.copy(img_dir + row[2] + '/' + row[3], test_dir  + row[2] + '/' + row[3]) "
   ]
  },
  {
   "cell_type": "markdown",
   "metadata": {},
   "source": [
    "## Bounding Box"
   ]
  },
  {
   "cell_type": "code",
   "execution_count": null,
   "metadata": {},
   "outputs": [],
   "source": [
    "# boundaries.csv contains the meta-data of each image\n",
    "# path/to/folder/image_name.jpg\n",
    "# x, y co-ordinates and height and width of the bounding boces\n",
    "# if the image is present in train set or test set, etc.\n",
    "\n",
    "boundary_df = pd.read_csv(\"boundaries.csv\", )"
   ]
  },
  {
   "cell_type": "code",
   "execution_count": null,
   "metadata": {},
   "outputs": [],
   "source": [
    "path = os.getcwd()"
   ]
  },
  {
   "cell_type": "code",
   "execution_count": null,
   "metadata": {},
   "outputs": [],
   "source": [
    "for i in range(len(boundary_df)):\n",
    "\n",
    "    im = Image.open(os.path.join(path, boundary_df['folder'][i], boundary_df['name'][i]))\n",
    "    # crop the image as per given co-ordinates and measurements\n",
    "    imCrop = im.crop((boundary_df['x'][i], boundary_df['y'][i],\n",
    "                      boundary_df['x'][i] + boundary_df['width'][i],\n",
    "                      boundary_df['y'][i] + boundary_df['height'][i])) #corrected\n",
    "    # store in test set if it is a test image else store in train\n",
    "    if df['train'][i] == 0: \n",
    "\n",
    "        if os.path.exists(os.path.join(path, 'cropped', 'test', df['folder'][i])):\n",
    "            im_crop.save(os.path.join(path, 'cropped', 'test', df['folder'][i],\n",
    "                                              df['name'][i]), \"JPEG\")\n",
    "        else:\n",
    "            os.mkdir(os.path.join(path, 'cropped', 'test', df['folder'][i]))\n",
    "            im_crop.save(os.path.join(path, 'cropped', 'test', df['folder'][i],\n",
    "                                     df['name'][i]), \"JPEG\")\n",
    "    else:\n",
    "\n",
    "        if os.path.exists(os.path.join(path, 'cropped', 'train', df['folder'][i])):\n",
    "            im_crop.save(os.path.join(path, 'cropped', 'train', df['folder'][i],\n",
    "                                              df['name'][i]), \"JPEG\")\n",
    "        else:\n",
    "            os.mkdir(os.path.join(path, 'cropped', 'train', df['folder'][i]))\n",
    "            im_crop.save(os.path.join(path, 'cropped', 'train', df['folder'][i],\n",
    "                                     df['name'][i]), \"JPEG\")"
   ]
  },
  {
   "cell_type": "markdown",
   "metadata": {},
   "source": [
    "## Squared Bounding Box"
   ]
  },
  {
   "cell_type": "code",
   "execution_count": null,
   "metadata": {},
   "outputs": [],
   "source": [
    "for i in range(len(df)):\n",
    "\n",
    "    im_rgb = Image.open(os.path.join(path, 'CUB_200_2011/CUB_200_2011/images', df['folder'][i],\n",
    "                                     df['name'][i]))\n",
    "    # square the bounding box, using the side of square as maximum of width or height\n",
    "    if df['width'][i] < df['height'][i]:\n",
    "        im_crop = im_rgb.crop(((df['x'][i], df['y'][i],\n",
    "                          df['x'][i] + df['width'][i],\n",
    "                          df['y'][i] + df['width'][i])))\n",
    "    else: \n",
    "        im_crop = im_rgb.crop(((df['x'][i], df['y'][i],\n",
    "                          df['x'][i] + df['height'][i],\n",
    "                          df['y'][i] + df['height'][i])))\n",
    "    # store in test set if it is a test image else store in train\n",
    "    if df['train'][i] == 0: \n",
    "\n",
    "        if os.path.exists(os.path.join(path, 'boundariesSqWsH', 'test', df['folder'][i])):\n",
    "            im_crop.save(os.path.join(path, 'boundariesSqWsH', 'test', df['folder'][i],\n",
    "                                              df['name'][i]), \"JPEG\")\n",
    "        else:\n",
    "            os.mkdir(os.path.join(path, 'boundariesSqWsH', 'test', df['folder'][i]))\n",
    "            im_crop.save(os.path.join(path, 'boundariesSqWsH', 'test', df['folder'][i],\n",
    "                                     df['name'][i]), \"JPEG\")\n",
    "    else:\n",
    "\n",
    "        if os.path.exists(os.path.join(path, 'boundariesSqWsH', 'train', df['folder'][i])):\n",
    "            im_crop.save(os.path.join(path, 'boundariesSqWsH', 'train', df['folder'][i],\n",
    "                                              df['name'][i]), \"JPEG\")\n",
    "        else:\n",
    "            os.mkdir(os.path.join(path, 'boundariesSqWsH', 'train', df['folder'][i]))\n",
    "            im_crop.save(os.path.join(path, 'boundariesSqWsH', 'train', df['folder'][i],\n",
    "                                     df['name'][i]), \"JPEG\")"
   ]
  },
  {
   "cell_type": "markdown",
   "metadata": {},
   "source": [
    "## Segmentation\n",
    "Grey-out the background of each image."
   ]
  },
  {
   "cell_type": "code",
   "execution_count": null,
   "metadata": {},
   "outputs": [],
   "source": [
    "df = pd.read_csv(\"boundaries.csv\")"
   ]
  },
  {
   "cell_type": "code",
   "execution_count": null,
   "metadata": {},
   "outputs": [],
   "source": [
    "path = os.getcwd()"
   ]
  },
  {
   "cell_type": "code",
   "execution_count": null,
   "metadata": {},
   "outputs": [],
   "source": [
    "for i in range(len(df)):\n",
    "    # open the image\n",
    "    im_rgb = Image.open(os.path.join(path, 'CUB_200_2011/CUB_200_2011/images', df['folder'][i],\n",
    "                                     df['name'][i])).convert(\"RGBA\")\n",
    "    # open the corresponding segmentation mask of that image\n",
    "    im_a = Image.open(os.path.join(path, 'segmentations',\n",
    "                                   df['folder'][i], \n",
    "                                   os.path.splitext(df['name'][i])[0]+\".png\")).convert('L').resize(im_rgb.size)\n",
    "    # copy the image\n",
    "    im_rgba = im_rgb.copy()\n",
    "    # apply the masking filter to the copy\n",
    "    im_rgba.putalpha(im_a)\n",
    "    pixels = im_rgba.load()\n",
    "    # convert the background filtered image to the grey \n",
    "    for y in range(im_rgba.size[1]): \n",
    "        for x in range(im_rgba.size[0]):\n",
    "\n",
    "            if pixels[x,y][3] < 122:    # check alpha\n",
    "                pixels[x,y] = (122, 122, 122)\n",
    "    # store in test set if it is a test image else store in train            \n",
    "    if df['train'][i] == 0: \n",
    "\n",
    "        if os.path.exists(os.path.join(path, 'grey', 'test', df['folder'][i])):\n",
    "            im_rgba.save(os.path.join(path, 'grey', 'test', df['folder'][i],\n",
    "                                              df['name'][i]), \"PNG\")\n",
    "        else:\n",
    "            os.mkdir(os.path.join(path, 'grey', 'test', df['folder'][i]))\n",
    "            im_rgba.save(os.path.join(path, 'grey', 'test', df['folder'][i],\n",
    "                                     df['name'][i]), \"PNG\")\n",
    "    else:\n",
    "\n",
    "        if os.path.exists(os.path.join(path, 'grey', 'train', df['folder'][i])):\n",
    "            im_rgba.save(os.path.join(path, 'grey', 'train', df['folder'][i],\n",
    "                                              df['name'][i]), \"PNG\")\n",
    "        else:\n",
    "            os.mkdir(os.path.join(path, 'grey', 'train', df['folder'][i]))\n",
    "            im_rgba.save(os.path.join(path, 'grey', 'train', df['folder'][i],\n",
    "                                     df['name'][i]), \"PNG\")\n",
    "        \n",
    "    "
   ]
  },
  {
   "cell_type": "markdown",
   "metadata": {},
   "source": [
    "## Bounding Box Segmentation\n",
    "Grey-out the background of each image and make the image square."
   ]
  },
  {
   "cell_type": "code",
   "execution_count": null,
   "metadata": {},
   "outputs": [],
   "source": [
    "for i in range(len(df)):\n",
    "    # open the image\n",
    "    im_rgb = Image.open(os.path.join(path, 'CUB_200_2011/CUB_200_2011/images', df['folder'][i],\n",
    "                                     df['name'][i])).convert(\"RGBA\")\n",
    "    # open the corresponding segmentation mask of that image\n",
    "    im_a = Image.open(os.path.join(path, 'segmentations',\n",
    "                                   df['folder'][i], \n",
    "                                   os.path.splitext(df['name'][i])[0]+\".png\")).convert('L').resize(im_rgb.size)\n",
    "    # copy the image\n",
    "    im_rgba = im_rgb.copy()\n",
    "    # apply the masking filter to the copy\n",
    "    im_rgba.putalpha(im_a)\n",
    "    pixels = im_rgba.load()\n",
    "    # convert the background filtered image to the grey \n",
    "    for y in range(im_rgba.size[1]): \n",
    "        for x in range(im_rgba.size[0]):\n",
    "\n",
    "            if pixels[x,y][3] < 122:    # check alpha\n",
    "                pixels[x,y] = (122, 122, 122)\n",
    "    # crop the image as per given co-ordinates and measurements        \n",
    "    imCrop = im_rgba.crop((df['x'][i], df['y'][i],\n",
    "                      df['x'][i] + df['width'][i],\n",
    "                      df['y'][i] + df['height'][i]))\n",
    "    # store in test set if it is a test image else store in train\n",
    "    if df['train'][i] == 0: \n",
    "\n",
    "        if os.path.exists(os.path.join(path, 'bounding_box_segmentation', 'test', df['folder'][i])):\n",
    "            imCrop.save(os.path.join(path, 'bounding_box_segmentation', 'test', df['folder'][i],\n",
    "                                              df['name'][i]), \"PNG\")\n",
    "        else:\n",
    "            os.mkdir(os.path.join(path, 'bounding_box_segmentation', 'test', df['folder'][i]))\n",
    "            imCrop.save(os.path.join(path, 'bounding_box_segmentation', 'test', df['folder'][i],\n",
    "                                     df['name'][i]), \"PNG\")\n",
    "    else:\n",
    "\n",
    "        if os.path.exists(os.path.join(path, 'bounding_box_segmentation', 'train', df['folder'][i])):\n",
    "            imCrop.save(os.path.join(path, 'bounding_box_segmentation', 'train', df['folder'][i],\n",
    "                                              df['name'][i]), \"PNG\")\n",
    "        else:\n",
    "            os.mkdir(os.path.join(path, 'bounding_box_segmentation', 'train', df['folder'][i]))\n",
    "            imCrop.save(os.path.join(path, 'bounding_box_segmentation', 'train', df['folder'][i],\n",
    "                                     df['name'][i]), \"PNG\")\n",
    "        \n",
    "    "
   ]
  },
  {
   "cell_type": "markdown",
   "metadata": {},
   "source": [
    "## Simple rectification"
   ]
  },
  {
   "cell_type": "code",
   "execution_count": null,
   "metadata": {},
   "outputs": [],
   "source": [
    "# Change training to testing afterwards\n",
    "folder_location = mirror_dir + 'train/'\n",
    "\n",
    "for index, row in img_df.iterrows():\n",
    "    # store in train set if it is a train image else store in test\n",
    "    if (row['Training'] == 1):      \n",
    "        for index_df, df_row in df.iterrows():\n",
    "            # if left eye is present  do nothing\n",
    "            if (df_row['ID'] == row['ID'] and df_row[1]== 7 and df_row['Visible']== 1):\n",
    "                print('Left eye present: ' + str(row['Name']))\n",
    "                break\n",
    "            # if right eye is present mirror (flip) the image so that all beaks points towards the left\n",
    "            elif (df_row['ID'] == row['ID'] and df_row[1]==11 and df_row['Visible']== 1):\n",
    "             \n",
    "                im = Image.open(folder_location + row['Name'])\n",
    "                im_mirror = ImageOps.mirror(im)\n",
    "                im_mirror.save(folder_location + row['Name'])\n",
    "\n",
    "                break"
   ]
  }
 ],
 "metadata": {
  "kernelspec": {
   "display_name": "Python 3",
   "language": "python",
   "name": "python3"
  },
  "language_info": {
   "codemirror_mode": {
    "name": "ipython",
    "version": 3
   },
   "file_extension": ".py",
   "mimetype": "text/x-python",
   "name": "python",
   "nbconvert_exporter": "python",
   "pygments_lexer": "ipython3",
   "version": "3.7.6"
  }
 },
 "nbformat": 4,
 "nbformat_minor": 4
}