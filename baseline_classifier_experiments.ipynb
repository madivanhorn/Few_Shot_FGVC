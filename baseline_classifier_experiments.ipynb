{
 "cells": [
  {
   "source": [
    "# Baseline Experiments for Classifier"
   ],
   "cell_type": "markdown",
   "metadata": {}
  },
  {
   "cell_type": "code",
   "execution_count": null,
   "metadata": {},
   "outputs": [],
   "source": [
    "import numpy as np\n",
    "import pandas as pd\n",
    "import matplotlib.pyplot as plt\n",
    "import os\n",
    "from sklearn.svm import SVC\n",
    "from sklearn.neighbors import KNeighborsClassifier as knn\n",
    "from sklearn.ensemble import RandomForestClassifier as rf\n",
    "from sklearn.neural_network import MLPClassifier as mlp\n",
    "from sklearn import metrics\n",
    "from sklearn.metrics import classification_report, confusion_matrix\n",
    "from tqdm import tqdm\n",
    "from sklearn.linear_model import LogisticRegression as lr \n",
    "import json"
   ]
  },
  {
   "cell_type": "code",
   "execution_count": null,
   "metadata": {},
   "outputs": [],
   "source": [
    "main_dir ='C://Users/Declan/iNaturalist_2017/'\n",
    "features_dir = main_dir + 'Features/'\n",
    "test_dir = main_dir + \"test/\"\n",
    "report_dir = main_dir + 'reports/'"
   ]
  },
  {
   "cell_type": "code",
   "execution_count": null,
   "metadata": {},
   "outputs": [],
   "source": [
    "# Load in features\n",
    "training_features_data = np.load(os.path.join(features_dir, \"training_features_\"+n+\"shot.npz\"))\n",
    "test_features_data = np.load(os.path.join(features_dir, \"test_features_\"+n+\"shot.npz\"))\n",
    "\n",
    "# training features\n",
    "X_train = training_features_data['features']\n",
    "y_train = training_features_data['labels']\n",
    "# Get test imgs ready\n",
    "X_test = test_features_data['features']\n",
    "y_test = test_features_data['labels']"
   ]
  },
  {
   "cell_type": "code",
   "execution_count": null,
   "metadata": {
    "scrolled": true
   },
   "outputs": [],
   "source": [
    "\n",
    "dic = {}\n",
    "\n",
    "for n in [\"1\",\"3\",\"5\", \"10\", \"20\" ]:\n",
    "    ## Load in features\n",
    "    training_features_data = np.load(os.path.join(features_dir, \"training_features_\"+n+\"shot.npz\"))\n",
    "    test_features_data = np.load(os.path.join(features_dir, \"test_features_\"+n+\"shot.npz\"))\n",
    "    \n",
    "    ## training features\n",
    "    X_train = training_features_data['features']\n",
    "    y_train = training_features_data['labels']\n",
    "    ## Get test imgs ready\n",
    "    X_test = test_features_data['features']\n",
    "    y_test = test_features_data['labels']\n",
    "    ## Support Vector Machines\n",
    "    for k in ['linear','poly', 'rbf', 'sigmoid']:\n",
    "        for m in [0.1, 1, 2, 5]:\n",
    "            svclassifier = SVC(kernel=k, C=m)\n",
    "            svclassifier.fit(X_train, y_train)\n",
    "            y_pred = svclassifier.predict(X_test)\n",
    "            name = report_dir + n + '_shot_'+'_SVM_' + k + str(m)\n",
    "            acc = metrics.accuracy_score(y_test, y_pred)\n",
    "            print(name, \"  :  \", acc)\n",
    "            dic[name] = acc\n",
    "    #\n",
    "    ## K Nearest Neighbour \n",
    "    for k in ['uniform', 'distance']:\n",
    "        for m in [5, 10, 20, 100]:\n",
    "            knn_fn = knn(weights = 'uniform', n_neighbors = m)\n",
    "            knn_fn.fit(X_train, y_train)\n",
    "            y_pred = knn_fn.predict(X_test)\n",
    "            cf_matrix = np.array(confusion_matrix(y_test,y_pred))\n",
    "            report = np.array(classification_report(y_test,y_pred))\n",
    "            name = report_dir + n + '_shot_'+'_knn_' + k + str(m)\n",
    "            acc = metrics.accuracy_score(y_test, y_pred)\n",
    "            print(name, \"  :  \", acc)\n",
    "            dic[name] = acc\n",
    "    ## Random Forest\n",
    "    for k in [ 100, 200, 400 ]:\n",
    "        for m in ['gini', 'entropy']:\n",
    "            rfc = rf(n_estimators = k, criterion = m)   \n",
    "            rfc.fit(X_train, y_train)\n",
    "            y_pred = rfc.predict(X_test)\n",
    "            name = report_dir + n + '_shot_'+'_rf_' + str(k) +\"_\" + m\n",
    "            acc = metrics.accuracy_score(y_test, y_pred)\n",
    "            print(name, \"  :  \", acc)\n",
    "            dic[name] = acc\n",
    "    \n",
    "    ## Multi Layer Perceptron\n",
    "    for k in [0.001, 0.002, 0.005, 0.01, 0.1]:\n",
    "        for m in [(100,), (200,), (50,)]:\n",
    "            mlpc = mlp(max_iter = 500,solver = \"adam\", learning_rate_init = k, )\n",
    "            mlpc.fit(X_train, y_train)\n",
    "            y_pred = mlpc.predict(X_test)\n",
    "            name = report_dir + n + '_shot'+'_mlp_' +\"lr_\"+ str(k) + str(m)\n",
    "            acc = metrics.accuracy_score(y_test, y_pred)\n",
    "            print(name, \"  :  \", acc)\n",
    "            print(\"N layers: \", mlpc.n_layers_)\n",
    "            dic[name] = acc\n",
    "        \n",
    "    ## Logistic Regression\n",
    "    for k in [0.01, 0.025, 0.05, 0.1, 1, 2, 5]:\n",
    "        lrc = lr(max_iter = 1000, C = k)\n",
    "        lrc.fit(X_train, y_train)\n",
    "        y_pred = lrc.predict(X_test)\n",
    "        \n",
    "        name = report_dir + n + '_shot'+'_C_' +str(k)\n",
    "        acc = metrics.accuracy_score(y_test, y_pred)\n",
    "        print(name, \"  :  \", acc)\n",
    "        dic[name] = acc"
   ]
  },
  {
   "cell_type": "code",
   "execution_count": null,
   "metadata": {},
   "outputs": [],
   "source": [
    "with open(report_dir+'accuracies.json', 'r') as fp:\n",
    "    accs = json.load( fp)"
   ]
  },
  {
   "cell_type": "code",
   "execution_count": null,
   "metadata": {},
   "outputs": [],
   "source": [
    "# x-axis has num of training images per class\n",
    "# y-axis has overall accuracy for each class \n",
    "x_val = []\n",
    "acc = []\n",
    "for key in cls_report:\n",
    "    key_str = str(key)\n",
    "    if(key_str == 'accuracy'):\n",
    "        break\n",
    "    x_val.append(key_str)\n",
    "    acc.append(cls_report[key_str]['f1-score'])\n",
    "    \n",
    "plt.bar(x_val,acc)\n",
    "plt.xlabel('ClassID: Number of images within class')\n",
    "plt.ylabel('F1 Accuracy for each class')\n",
    "ax = plt.gca()\n",
    "ax.set_xticks([20,40,60,80,100,120,140,160,180,199])\n",
    "plt.title('Baseline Accuracy')"
   ]
  }
 ],
 "metadata": {
  "kernelspec": {
   "display_name": "Python 3",
   "language": "python",
   "name": "python3"
  },
  "language_info": {
   "codemirror_mode": {
    "name": "ipython",
    "version": 3
   },
   "file_extension": ".py",
   "mimetype": "text/x-python",
   "name": "python",
   "nbconvert_exporter": "python",
   "pygments_lexer": "ipython3",
   "version": "3.6.5-final"
  }
 },
 "nbformat": 4,
 "nbformat_minor": 4
}